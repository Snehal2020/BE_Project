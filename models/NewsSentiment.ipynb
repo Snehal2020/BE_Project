{
 "cells": [
  {
   "cell_type": "markdown",
   "id": "94016a56",
   "metadata": {},
   "source": [
    "### 1. Install and Import Dependecies"
   ]
  },
  {
   "cell_type": "code",
   "execution_count": 1,
   "id": "015d23b5",
   "metadata": {},
   "outputs": [
    {
     "name": "stdout",
     "output_type": "stream",
     "text": [
      "Requirement already satisfied: torch in c:\\python312\\lib\\site-packages (2.4.1+cu121)\n",
      "Requirement already satisfied: torchvision in c:\\python312\\lib\\site-packages (0.19.1+cu121)\n",
      "Requirement already satisfied: torchaudio in c:\\python312\\lib\\site-packages (2.4.1+cu121)\n",
      "Requirement already satisfied: filelock in c:\\python312\\lib\\site-packages (from torch) (3.13.1)\n",
      "Requirement already satisfied: typing-extensions>=4.8.0 in c:\\python312\\lib\\site-packages (from torch) (4.9.0)\n",
      "Requirement already satisfied: sympy in c:\\python312\\lib\\site-packages (from torch) (1.12)\n",
      "Requirement already satisfied: networkx in c:\\python312\\lib\\site-packages (from torch) (3.2.1)\n",
      "Requirement already satisfied: jinja2 in c:\\python312\\lib\\site-packages (from torch) (3.1.3)\n",
      "Requirement already satisfied: fsspec in c:\\python312\\lib\\site-packages (from torch) (2024.2.0)\n",
      "Requirement already satisfied: setuptools in c:\\python312\\lib\\site-packages (from torch) (70.0.0)\n",
      "Requirement already satisfied: numpy in c:\\python312\\lib\\site-packages (from torchvision) (1.26.3)\n",
      "Requirement already satisfied: pillow!=8.3.*,>=5.3.0 in c:\\python312\\lib\\site-packages (from torchvision) (10.2.0)\n",
      "Requirement already satisfied: MarkupSafe>=2.0 in c:\\python312\\lib\\site-packages (from jinja2->torch) (2.1.5)\n",
      "Requirement already satisfied: mpmath>=0.19 in c:\\python312\\lib\\site-packages (from sympy->torch) (1.3.0)\n"
     ]
    },
    {
     "name": "stderr",
     "output_type": "stream",
     "text": [
      "WARNING: Ignoring invalid distribution ~ (C:\\Python312\\Lib\\site-packages)\n",
      "WARNING: Ignoring invalid distribution ~ip (C:\\Python312\\Lib\\site-packages)\n",
      "WARNING: Ignoring invalid distribution ~ (C:\\Python312\\Lib\\site-packages)\n",
      "WARNING: Ignoring invalid distribution ~ip (C:\\Python312\\Lib\\site-packages)\n",
      "WARNING: Ignoring invalid distribution ~ (C:\\Python312\\Lib\\site-packages)\n",
      "WARNING: Ignoring invalid distribution ~ip (C:\\Python312\\Lib\\site-packages)\n",
      "\n",
      "[notice] A new release of pip is available: 24.3.1 -> 25.0.1\n",
      "[notice] To update, run: python.exe -m pip install --upgrade pip\n"
     ]
    }
   ],
   "source": [
    "!pip3 install torch torchvision torchaudio"
   ]
  },
  {
   "cell_type": "code",
   "execution_count": 2,
   "id": "3970c738",
   "metadata": {},
   "outputs": [
    {
     "name": "stdout",
     "output_type": "stream",
     "text": [
      "Requirement already satisfied: transformers in c:\\python312\\lib\\site-packages (4.45.1)\n",
      "Requirement already satisfied: requests in c:\\users\\hpind\\appdata\\roaming\\python\\python312\\site-packages (2.31.0)\n",
      "Requirement already satisfied: beautifulsoup4 in c:\\users\\hpind\\appdata\\roaming\\python\\python312\\site-packages (4.12.2)\n",
      "Requirement already satisfied: pandas in c:\\users\\hpind\\appdata\\roaming\\python\\python312\\site-packages (2.1.2)\n",
      "Requirement already satisfied: numpy in c:\\python312\\lib\\site-packages (1.26.3)\n",
      "Requirement already satisfied: filelock in c:\\python312\\lib\\site-packages (from transformers) (3.13.1)\n",
      "Requirement already satisfied: huggingface-hub<1.0,>=0.23.2 in c:\\python312\\lib\\site-packages (from transformers) (0.25.1)\n",
      "Requirement already satisfied: packaging>=20.0 in c:\\users\\hpind\\appdata\\roaming\\python\\python312\\site-packages (from transformers) (23.2)\n",
      "Requirement already satisfied: pyyaml>=5.1 in c:\\users\\hpind\\appdata\\roaming\\python\\python312\\site-packages (from transformers) (6.0.1)\n",
      "Requirement already satisfied: regex!=2019.12.17 in c:\\python312\\lib\\site-packages (from transformers) (2024.9.11)\n",
      "Requirement already satisfied: safetensors>=0.4.1 in c:\\python312\\lib\\site-packages (from transformers) (0.4.5)\n",
      "Requirement already satisfied: tokenizers<0.21,>=0.20 in c:\\python312\\lib\\site-packages (from transformers) (0.20.0)\n",
      "Requirement already satisfied: tqdm>=4.27 in c:\\python312\\lib\\site-packages (from transformers) (4.66.5)\n",
      "Requirement already satisfied: charset-normalizer<4,>=2 in c:\\users\\hpind\\appdata\\roaming\\python\\python312\\site-packages (from requests) (3.3.1)\n",
      "Requirement already satisfied: idna<4,>=2.5 in c:\\users\\hpind\\appdata\\roaming\\python\\python312\\site-packages (from requests) (3.4)\n",
      "Requirement already satisfied: urllib3<3,>=1.21.1 in c:\\users\\hpind\\appdata\\roaming\\python\\python312\\site-packages (from requests) (2.0.7)\n",
      "Requirement already satisfied: certifi>=2017.4.17 in c:\\users\\hpind\\appdata\\roaming\\python\\python312\\site-packages (from requests) (2023.7.22)\n",
      "Requirement already satisfied: soupsieve>1.2 in c:\\users\\hpind\\appdata\\roaming\\python\\python312\\site-packages (from beautifulsoup4) (2.5)\n",
      "Requirement already satisfied: python-dateutil>=2.8.2 in c:\\users\\hpind\\appdata\\roaming\\python\\python312\\site-packages (from pandas) (2.8.2)\n",
      "Requirement already satisfied: pytz>=2020.1 in c:\\python312\\lib\\site-packages (from pandas) (2024.1)\n",
      "Requirement already satisfied: tzdata>=2022.1 in c:\\users\\hpind\\appdata\\roaming\\python\\python312\\site-packages (from pandas) (2023.3)\n",
      "Requirement already satisfied: fsspec>=2023.5.0 in c:\\python312\\lib\\site-packages (from huggingface-hub<1.0,>=0.23.2->transformers) (2024.2.0)\n",
      "Requirement already satisfied: typing-extensions>=3.7.4.3 in c:\\python312\\lib\\site-packages (from huggingface-hub<1.0,>=0.23.2->transformers) (4.9.0)\n",
      "Requirement already satisfied: six>=1.5 in c:\\users\\hpind\\appdata\\roaming\\python\\python312\\site-packages (from python-dateutil>=2.8.2->pandas) (1.16.0)\n",
      "Requirement already satisfied: colorama in c:\\users\\hpind\\appdata\\roaming\\python\\python312\\site-packages (from tqdm>=4.27->transformers) (0.4.6)\n"
     ]
    },
    {
     "name": "stderr",
     "output_type": "stream",
     "text": [
      "WARNING: Ignoring invalid distribution ~ (C:\\Python312\\Lib\\site-packages)\n",
      "WARNING: Ignoring invalid distribution ~ip (C:\\Python312\\Lib\\site-packages)\n",
      "WARNING: Ignoring invalid distribution ~ (C:\\Python312\\Lib\\site-packages)\n",
      "WARNING: Ignoring invalid distribution ~ip (C:\\Python312\\Lib\\site-packages)\n",
      "WARNING: Ignoring invalid distribution ~ (C:\\Python312\\Lib\\site-packages)\n",
      "WARNING: Ignoring invalid distribution ~ip (C:\\Python312\\Lib\\site-packages)\n",
      "\n",
      "[notice] A new release of pip is available: 24.3.1 -> 25.0.1\n",
      "[notice] To update, run: python.exe -m pip install --upgrade pip\n"
     ]
    }
   ],
   "source": [
    "!pip install transformers requests beautifulsoup4 pandas numpy"
   ]
  },
  {
   "cell_type": "code",
   "execution_count": 3,
   "id": "36c25cef",
   "metadata": {},
   "outputs": [],
   "source": [
    "from transformers import AutoTokenizer, AutoModelForSequenceClassification, AutoModelForMaskedLM\n",
    "import torch\n",
    "import requests\n",
    "from bs4 import BeautifulSoup\n",
    "import re"
   ]
  },
  {
   "cell_type": "markdown",
   "id": "39ab4d18",
   "metadata": {},
   "source": [
    "### 2. Instantiate Model"
   ]
  },
  {
   "cell_type": "code",
   "execution_count": 4,
   "id": "2131f671",
   "metadata": {},
   "outputs": [
    {
     "data": {
      "application/vnd.jupyter.widget-view+json": {
       "model_id": "88051840857a4c39a78dfe6d345af4ee",
       "version_major": 2,
       "version_minor": 0
      },
      "text/plain": [
       "tokenizer_config.json:   0%|          | 0.00/206 [00:00<?, ?B/s]"
      ]
     },
     "metadata": {},
     "output_type": "display_data"
    },
    {
     "name": "stderr",
     "output_type": "stream",
     "text": [
      "c:\\Python312\\Lib\\site-packages\\huggingface_hub\\file_download.py:147: UserWarning: `huggingface_hub` cache-system uses symlinks by default to efficiently store duplicated files but your machine does not support them in C:\\Users\\hpind\\.cache\\huggingface\\hub\\models--google--muril-base-cased. Caching files will still work but in a degraded version that might require more space on your disk. This warning can be disabled by setting the `HF_HUB_DISABLE_SYMLINKS_WARNING` environment variable. For more details, see https://huggingface.co/docs/huggingface_hub/how-to-cache#limitations.\n",
      "To support symlinks on Windows, you either need to activate Developer Mode or to run Python as an administrator. In order to activate developer mode, see this article: https://docs.microsoft.com/en-us/windows/apps/get-started/enable-your-device-for-development\n",
      "  warnings.warn(message)\n"
     ]
    },
    {
     "data": {
      "application/vnd.jupyter.widget-view+json": {
       "model_id": "fb16f7cae5694714bde2199bf750f600",
       "version_major": 2,
       "version_minor": 0
      },
      "text/plain": [
       "config.json:   0%|          | 0.00/411 [00:00<?, ?B/s]"
      ]
     },
     "metadata": {},
     "output_type": "display_data"
    },
    {
     "data": {
      "application/vnd.jupyter.widget-view+json": {
       "model_id": "1a387a83ecc04fc29ecf76085fedcf23",
       "version_major": 2,
       "version_minor": 0
      },
      "text/plain": [
       "vocab.txt:   0%|          | 0.00/3.16M [00:00<?, ?B/s]"
      ]
     },
     "metadata": {},
     "output_type": "display_data"
    },
    {
     "data": {
      "application/vnd.jupyter.widget-view+json": {
       "model_id": "96716d984e6946419e6bca0e173517fa",
       "version_major": 2,
       "version_minor": 0
      },
      "text/plain": [
       "special_tokens_map.json:   0%|          | 0.00/113 [00:00<?, ?B/s]"
      ]
     },
     "metadata": {},
     "output_type": "display_data"
    },
    {
     "data": {
      "application/vnd.jupyter.widget-view+json": {
       "model_id": "c90e33efbcdb427f9edc9f6289092a7f",
       "version_major": 2,
       "version_minor": 0
      },
      "text/plain": [
       "pytorch_model.bin:   0%|          | 0.00/953M [00:00<?, ?B/s]"
      ]
     },
     "metadata": {},
     "output_type": "display_data"
    },
    {
     "ename": "OSError",
     "evalue": "[Errno 28] No space left on device",
     "output_type": "error",
     "traceback": [
      "\u001b[1;31m---------------------------------------------------------------------------\u001b[0m",
      "\u001b[1;31mOSError\u001b[0m                                   Traceback (most recent call last)",
      "Cell \u001b[1;32mIn[4], line 2\u001b[0m\n\u001b[0;32m      1\u001b[0m tokenizer \u001b[38;5;241m=\u001b[39m AutoTokenizer\u001b[38;5;241m.\u001b[39mfrom_pretrained(\u001b[38;5;124m\"\u001b[39m\u001b[38;5;124mgoogle/muril-base-cased\u001b[39m\u001b[38;5;124m\"\u001b[39m)\n\u001b[1;32m----> 2\u001b[0m model \u001b[38;5;241m=\u001b[39m \u001b[43mAutoModelForSequenceClassification\u001b[49m\u001b[38;5;241;43m.\u001b[39;49m\u001b[43mfrom_pretrained\u001b[49m\u001b[43m(\u001b[49m\u001b[38;5;124;43m\"\u001b[39;49m\u001b[38;5;124;43mgoogle/muril-base-cased\u001b[39;49m\u001b[38;5;124;43m\"\u001b[39;49m\u001b[43m)\u001b[49m\n",
      "File \u001b[1;32mc:\\Python312\\Lib\\site-packages\\transformers\\models\\auto\\auto_factory.py:564\u001b[0m, in \u001b[0;36m_BaseAutoModelClass.from_pretrained\u001b[1;34m(cls, pretrained_model_name_or_path, *model_args, **kwargs)\u001b[0m\n\u001b[0;32m    562\u001b[0m \u001b[38;5;28;01melif\u001b[39;00m \u001b[38;5;28mtype\u001b[39m(config) \u001b[38;5;129;01min\u001b[39;00m \u001b[38;5;28mcls\u001b[39m\u001b[38;5;241m.\u001b[39m_model_mapping\u001b[38;5;241m.\u001b[39mkeys():\n\u001b[0;32m    563\u001b[0m     model_class \u001b[38;5;241m=\u001b[39m _get_model_class(config, \u001b[38;5;28mcls\u001b[39m\u001b[38;5;241m.\u001b[39m_model_mapping)\n\u001b[1;32m--> 564\u001b[0m     \u001b[38;5;28;01mreturn\u001b[39;00m \u001b[43mmodel_class\u001b[49m\u001b[38;5;241;43m.\u001b[39;49m\u001b[43mfrom_pretrained\u001b[49m\u001b[43m(\u001b[49m\n\u001b[0;32m    565\u001b[0m \u001b[43m        \u001b[49m\u001b[43mpretrained_model_name_or_path\u001b[49m\u001b[43m,\u001b[49m\u001b[43m \u001b[49m\u001b[38;5;241;43m*\u001b[39;49m\u001b[43mmodel_args\u001b[49m\u001b[43m,\u001b[49m\u001b[43m \u001b[49m\u001b[43mconfig\u001b[49m\u001b[38;5;241;43m=\u001b[39;49m\u001b[43mconfig\u001b[49m\u001b[43m,\u001b[49m\u001b[43m \u001b[49m\u001b[38;5;241;43m*\u001b[39;49m\u001b[38;5;241;43m*\u001b[39;49m\u001b[43mhub_kwargs\u001b[49m\u001b[43m,\u001b[49m\u001b[43m \u001b[49m\u001b[38;5;241;43m*\u001b[39;49m\u001b[38;5;241;43m*\u001b[39;49m\u001b[43mkwargs\u001b[49m\n\u001b[0;32m    566\u001b[0m \u001b[43m    \u001b[49m\u001b[43m)\u001b[49m\n\u001b[0;32m    567\u001b[0m \u001b[38;5;28;01mraise\u001b[39;00m \u001b[38;5;167;01mValueError\u001b[39;00m(\n\u001b[0;32m    568\u001b[0m     \u001b[38;5;124mf\u001b[39m\u001b[38;5;124m\"\u001b[39m\u001b[38;5;124mUnrecognized configuration class \u001b[39m\u001b[38;5;132;01m{\u001b[39;00mconfig\u001b[38;5;241m.\u001b[39m\u001b[38;5;18m__class__\u001b[39m\u001b[38;5;132;01m}\u001b[39;00m\u001b[38;5;124m for this kind of AutoModel: \u001b[39m\u001b[38;5;132;01m{\u001b[39;00m\u001b[38;5;28mcls\u001b[39m\u001b[38;5;241m.\u001b[39m\u001b[38;5;18m__name__\u001b[39m\u001b[38;5;132;01m}\u001b[39;00m\u001b[38;5;124m.\u001b[39m\u001b[38;5;130;01m\\n\u001b[39;00m\u001b[38;5;124m\"\u001b[39m\n\u001b[0;32m    569\u001b[0m     \u001b[38;5;124mf\u001b[39m\u001b[38;5;124m\"\u001b[39m\u001b[38;5;124mModel type should be one of \u001b[39m\u001b[38;5;132;01m{\u001b[39;00m\u001b[38;5;124m'\u001b[39m\u001b[38;5;124m, \u001b[39m\u001b[38;5;124m'\u001b[39m\u001b[38;5;241m.\u001b[39mjoin(c\u001b[38;5;241m.\u001b[39m\u001b[38;5;18m__name__\u001b[39m\u001b[38;5;250m \u001b[39m\u001b[38;5;28;01mfor\u001b[39;00m\u001b[38;5;250m \u001b[39mc\u001b[38;5;250m \u001b[39m\u001b[38;5;129;01min\u001b[39;00m\u001b[38;5;250m \u001b[39m\u001b[38;5;28mcls\u001b[39m\u001b[38;5;241m.\u001b[39m_model_mapping\u001b[38;5;241m.\u001b[39mkeys())\u001b[38;5;132;01m}\u001b[39;00m\u001b[38;5;124m.\u001b[39m\u001b[38;5;124m\"\u001b[39m\n\u001b[0;32m    570\u001b[0m )\n",
      "File \u001b[1;32mc:\\Python312\\Lib\\site-packages\\transformers\\modeling_utils.py:3633\u001b[0m, in \u001b[0;36mPreTrainedModel.from_pretrained\u001b[1;34m(cls, pretrained_model_name_or_path, config, cache_dir, ignore_mismatched_sizes, force_download, local_files_only, token, revision, use_safetensors, *model_args, **kwargs)\u001b[0m\n\u001b[0;32m   3630\u001b[0m     \u001b[38;5;28;01melse\u001b[39;00m:\n\u001b[0;32m   3631\u001b[0m         \u001b[38;5;66;03m# This repo has no safetensors file of any kind, we switch to PyTorch.\u001b[39;00m\n\u001b[0;32m   3632\u001b[0m         filename \u001b[38;5;241m=\u001b[39m _add_variant(WEIGHTS_NAME, variant)\n\u001b[1;32m-> 3633\u001b[0m         resolved_archive_file \u001b[38;5;241m=\u001b[39m \u001b[43mcached_file\u001b[49m\u001b[43m(\u001b[49m\n\u001b[0;32m   3634\u001b[0m \u001b[43m            \u001b[49m\u001b[43mpretrained_model_name_or_path\u001b[49m\u001b[43m,\u001b[49m\u001b[43m \u001b[49m\u001b[43mfilename\u001b[49m\u001b[43m,\u001b[49m\u001b[43m \u001b[49m\u001b[38;5;241;43m*\u001b[39;49m\u001b[38;5;241;43m*\u001b[39;49m\u001b[43mcached_file_kwargs\u001b[49m\n\u001b[0;32m   3635\u001b[0m \u001b[43m        \u001b[49m\u001b[43m)\u001b[49m\n\u001b[0;32m   3636\u001b[0m \u001b[38;5;28;01mif\u001b[39;00m resolved_archive_file \u001b[38;5;129;01mis\u001b[39;00m \u001b[38;5;28;01mNone\u001b[39;00m \u001b[38;5;129;01mand\u001b[39;00m filename \u001b[38;5;241m==\u001b[39m _add_variant(WEIGHTS_NAME, variant):\n\u001b[0;32m   3637\u001b[0m     \u001b[38;5;66;03m# Maybe the checkpoint is sharded, we try to grab the index name in this case.\u001b[39;00m\n\u001b[0;32m   3638\u001b[0m     resolved_archive_file \u001b[38;5;241m=\u001b[39m cached_file(\n\u001b[0;32m   3639\u001b[0m         pretrained_model_name_or_path,\n\u001b[0;32m   3640\u001b[0m         _add_variant(WEIGHTS_INDEX_NAME, variant),\n\u001b[0;32m   3641\u001b[0m         \u001b[38;5;241m*\u001b[39m\u001b[38;5;241m*\u001b[39mcached_file_kwargs,\n\u001b[0;32m   3642\u001b[0m     )\n",
      "File \u001b[1;32mc:\\Python312\\Lib\\site-packages\\transformers\\utils\\hub.py:403\u001b[0m, in \u001b[0;36mcached_file\u001b[1;34m(path_or_repo_id, filename, cache_dir, force_download, resume_download, proxies, token, revision, local_files_only, subfolder, repo_type, user_agent, _raise_exceptions_for_gated_repo, _raise_exceptions_for_missing_entries, _raise_exceptions_for_connection_errors, _commit_hash, **deprecated_kwargs)\u001b[0m\n\u001b[0;32m    400\u001b[0m user_agent \u001b[38;5;241m=\u001b[39m http_user_agent(user_agent)\n\u001b[0;32m    401\u001b[0m \u001b[38;5;28;01mtry\u001b[39;00m:\n\u001b[0;32m    402\u001b[0m     \u001b[38;5;66;03m# Load from URL or cache if already cached\u001b[39;00m\n\u001b[1;32m--> 403\u001b[0m     resolved_file \u001b[38;5;241m=\u001b[39m \u001b[43mhf_hub_download\u001b[49m\u001b[43m(\u001b[49m\n\u001b[0;32m    404\u001b[0m \u001b[43m        \u001b[49m\u001b[43mpath_or_repo_id\u001b[49m\u001b[43m,\u001b[49m\n\u001b[0;32m    405\u001b[0m \u001b[43m        \u001b[49m\u001b[43mfilename\u001b[49m\u001b[43m,\u001b[49m\n\u001b[0;32m    406\u001b[0m \u001b[43m        \u001b[49m\u001b[43msubfolder\u001b[49m\u001b[38;5;241;43m=\u001b[39;49m\u001b[38;5;28;43;01mNone\u001b[39;49;00m\u001b[43m \u001b[49m\u001b[38;5;28;43;01mif\u001b[39;49;00m\u001b[43m \u001b[49m\u001b[38;5;28;43mlen\u001b[39;49m\u001b[43m(\u001b[49m\u001b[43msubfolder\u001b[49m\u001b[43m)\u001b[49m\u001b[43m \u001b[49m\u001b[38;5;241;43m==\u001b[39;49m\u001b[43m \u001b[49m\u001b[38;5;241;43m0\u001b[39;49m\u001b[43m \u001b[49m\u001b[38;5;28;43;01melse\u001b[39;49;00m\u001b[43m \u001b[49m\u001b[43msubfolder\u001b[49m\u001b[43m,\u001b[49m\n\u001b[0;32m    407\u001b[0m \u001b[43m        \u001b[49m\u001b[43mrepo_type\u001b[49m\u001b[38;5;241;43m=\u001b[39;49m\u001b[43mrepo_type\u001b[49m\u001b[43m,\u001b[49m\n\u001b[0;32m    408\u001b[0m \u001b[43m        \u001b[49m\u001b[43mrevision\u001b[49m\u001b[38;5;241;43m=\u001b[39;49m\u001b[43mrevision\u001b[49m\u001b[43m,\u001b[49m\n\u001b[0;32m    409\u001b[0m \u001b[43m        \u001b[49m\u001b[43mcache_dir\u001b[49m\u001b[38;5;241;43m=\u001b[39;49m\u001b[43mcache_dir\u001b[49m\u001b[43m,\u001b[49m\n\u001b[0;32m    410\u001b[0m \u001b[43m        \u001b[49m\u001b[43muser_agent\u001b[49m\u001b[38;5;241;43m=\u001b[39;49m\u001b[43muser_agent\u001b[49m\u001b[43m,\u001b[49m\n\u001b[0;32m    411\u001b[0m \u001b[43m        \u001b[49m\u001b[43mforce_download\u001b[49m\u001b[38;5;241;43m=\u001b[39;49m\u001b[43mforce_download\u001b[49m\u001b[43m,\u001b[49m\n\u001b[0;32m    412\u001b[0m \u001b[43m        \u001b[49m\u001b[43mproxies\u001b[49m\u001b[38;5;241;43m=\u001b[39;49m\u001b[43mproxies\u001b[49m\u001b[43m,\u001b[49m\n\u001b[0;32m    413\u001b[0m \u001b[43m        \u001b[49m\u001b[43mresume_download\u001b[49m\u001b[38;5;241;43m=\u001b[39;49m\u001b[43mresume_download\u001b[49m\u001b[43m,\u001b[49m\n\u001b[0;32m    414\u001b[0m \u001b[43m        \u001b[49m\u001b[43mtoken\u001b[49m\u001b[38;5;241;43m=\u001b[39;49m\u001b[43mtoken\u001b[49m\u001b[43m,\u001b[49m\n\u001b[0;32m    415\u001b[0m \u001b[43m        \u001b[49m\u001b[43mlocal_files_only\u001b[49m\u001b[38;5;241;43m=\u001b[39;49m\u001b[43mlocal_files_only\u001b[49m\u001b[43m,\u001b[49m\n\u001b[0;32m    416\u001b[0m \u001b[43m    \u001b[49m\u001b[43m)\u001b[49m\n\u001b[0;32m    417\u001b[0m \u001b[38;5;28;01mexcept\u001b[39;00m GatedRepoError \u001b[38;5;28;01mas\u001b[39;00m e:\n\u001b[0;32m    418\u001b[0m     resolved_file \u001b[38;5;241m=\u001b[39m _get_cache_file_to_return(path_or_repo_id, full_filename, cache_dir, revision)\n",
      "File \u001b[1;32mc:\\Python312\\Lib\\site-packages\\huggingface_hub\\utils\\_deprecation.py:101\u001b[0m, in \u001b[0;36m_deprecate_arguments.<locals>._inner_deprecate_positional_args.<locals>.inner_f\u001b[1;34m(*args, **kwargs)\u001b[0m\n\u001b[0;32m     99\u001b[0m         message \u001b[38;5;241m+\u001b[39m\u001b[38;5;241m=\u001b[39m \u001b[38;5;124m\"\u001b[39m\u001b[38;5;130;01m\\n\u001b[39;00m\u001b[38;5;130;01m\\n\u001b[39;00m\u001b[38;5;124m\"\u001b[39m \u001b[38;5;241m+\u001b[39m custom_message\n\u001b[0;32m    100\u001b[0m     warnings\u001b[38;5;241m.\u001b[39mwarn(message, \u001b[38;5;167;01mFutureWarning\u001b[39;00m)\n\u001b[1;32m--> 101\u001b[0m \u001b[38;5;28;01mreturn\u001b[39;00m \u001b[43mf\u001b[49m\u001b[43m(\u001b[49m\u001b[38;5;241;43m*\u001b[39;49m\u001b[43margs\u001b[49m\u001b[43m,\u001b[49m\u001b[43m \u001b[49m\u001b[38;5;241;43m*\u001b[39;49m\u001b[38;5;241;43m*\u001b[39;49m\u001b[43mkwargs\u001b[49m\u001b[43m)\u001b[49m\n",
      "File \u001b[1;32mc:\\Python312\\Lib\\site-packages\\huggingface_hub\\utils\\_validators.py:114\u001b[0m, in \u001b[0;36mvalidate_hf_hub_args.<locals>._inner_fn\u001b[1;34m(*args, **kwargs)\u001b[0m\n\u001b[0;32m    111\u001b[0m \u001b[38;5;28;01mif\u001b[39;00m check_use_auth_token:\n\u001b[0;32m    112\u001b[0m     kwargs \u001b[38;5;241m=\u001b[39m smoothly_deprecate_use_auth_token(fn_name\u001b[38;5;241m=\u001b[39mfn\u001b[38;5;241m.\u001b[39m\u001b[38;5;18m__name__\u001b[39m, has_token\u001b[38;5;241m=\u001b[39mhas_token, kwargs\u001b[38;5;241m=\u001b[39mkwargs)\n\u001b[1;32m--> 114\u001b[0m \u001b[38;5;28;01mreturn\u001b[39;00m \u001b[43mfn\u001b[49m\u001b[43m(\u001b[49m\u001b[38;5;241;43m*\u001b[39;49m\u001b[43margs\u001b[49m\u001b[43m,\u001b[49m\u001b[43m \u001b[49m\u001b[38;5;241;43m*\u001b[39;49m\u001b[38;5;241;43m*\u001b[39;49m\u001b[43mkwargs\u001b[49m\u001b[43m)\u001b[49m\n",
      "File \u001b[1;32mc:\\Python312\\Lib\\site-packages\\huggingface_hub\\file_download.py:1232\u001b[0m, in \u001b[0;36mhf_hub_download\u001b[1;34m(repo_id, filename, subfolder, repo_type, revision, library_name, library_version, cache_dir, local_dir, user_agent, force_download, proxies, etag_timeout, token, local_files_only, headers, endpoint, legacy_cache_layout, resume_download, force_filename, local_dir_use_symlinks)\u001b[0m\n\u001b[0;32m   1212\u001b[0m     \u001b[38;5;28;01mreturn\u001b[39;00m _hf_hub_download_to_local_dir(\n\u001b[0;32m   1213\u001b[0m         \u001b[38;5;66;03m# Destination\u001b[39;00m\n\u001b[0;32m   1214\u001b[0m         local_dir\u001b[38;5;241m=\u001b[39mlocal_dir,\n\u001b[1;32m   (...)\u001b[0m\n\u001b[0;32m   1229\u001b[0m         local_files_only\u001b[38;5;241m=\u001b[39mlocal_files_only,\n\u001b[0;32m   1230\u001b[0m     )\n\u001b[0;32m   1231\u001b[0m \u001b[38;5;28;01melse\u001b[39;00m:\n\u001b[1;32m-> 1232\u001b[0m     \u001b[38;5;28;01mreturn\u001b[39;00m \u001b[43m_hf_hub_download_to_cache_dir\u001b[49m\u001b[43m(\u001b[49m\n\u001b[0;32m   1233\u001b[0m \u001b[43m        \u001b[49m\u001b[38;5;66;43;03m# Destination\u001b[39;49;00m\n\u001b[0;32m   1234\u001b[0m \u001b[43m        \u001b[49m\u001b[43mcache_dir\u001b[49m\u001b[38;5;241;43m=\u001b[39;49m\u001b[43mcache_dir\u001b[49m\u001b[43m,\u001b[49m\n\u001b[0;32m   1235\u001b[0m \u001b[43m        \u001b[49m\u001b[38;5;66;43;03m# File info\u001b[39;49;00m\n\u001b[0;32m   1236\u001b[0m \u001b[43m        \u001b[49m\u001b[43mrepo_id\u001b[49m\u001b[38;5;241;43m=\u001b[39;49m\u001b[43mrepo_id\u001b[49m\u001b[43m,\u001b[49m\n\u001b[0;32m   1237\u001b[0m \u001b[43m        \u001b[49m\u001b[43mfilename\u001b[49m\u001b[38;5;241;43m=\u001b[39;49m\u001b[43mfilename\u001b[49m\u001b[43m,\u001b[49m\n\u001b[0;32m   1238\u001b[0m \u001b[43m        \u001b[49m\u001b[43mrepo_type\u001b[49m\u001b[38;5;241;43m=\u001b[39;49m\u001b[43mrepo_type\u001b[49m\u001b[43m,\u001b[49m\n\u001b[0;32m   1239\u001b[0m \u001b[43m        \u001b[49m\u001b[43mrevision\u001b[49m\u001b[38;5;241;43m=\u001b[39;49m\u001b[43mrevision\u001b[49m\u001b[43m,\u001b[49m\n\u001b[0;32m   1240\u001b[0m \u001b[43m        \u001b[49m\u001b[38;5;66;43;03m# HTTP info\u001b[39;49;00m\n\u001b[0;32m   1241\u001b[0m \u001b[43m        \u001b[49m\u001b[43mendpoint\u001b[49m\u001b[38;5;241;43m=\u001b[39;49m\u001b[43mendpoint\u001b[49m\u001b[43m,\u001b[49m\n\u001b[0;32m   1242\u001b[0m \u001b[43m        \u001b[49m\u001b[43metag_timeout\u001b[49m\u001b[38;5;241;43m=\u001b[39;49m\u001b[43metag_timeout\u001b[49m\u001b[43m,\u001b[49m\n\u001b[0;32m   1243\u001b[0m \u001b[43m        \u001b[49m\u001b[43mheaders\u001b[49m\u001b[38;5;241;43m=\u001b[39;49m\u001b[43mheaders\u001b[49m\u001b[43m,\u001b[49m\n\u001b[0;32m   1244\u001b[0m \u001b[43m        \u001b[49m\u001b[43mproxies\u001b[49m\u001b[38;5;241;43m=\u001b[39;49m\u001b[43mproxies\u001b[49m\u001b[43m,\u001b[49m\n\u001b[0;32m   1245\u001b[0m \u001b[43m        \u001b[49m\u001b[43mtoken\u001b[49m\u001b[38;5;241;43m=\u001b[39;49m\u001b[43mtoken\u001b[49m\u001b[43m,\u001b[49m\n\u001b[0;32m   1246\u001b[0m \u001b[43m        \u001b[49m\u001b[38;5;66;43;03m# Additional options\u001b[39;49;00m\n\u001b[0;32m   1247\u001b[0m \u001b[43m        \u001b[49m\u001b[43mlocal_files_only\u001b[49m\u001b[38;5;241;43m=\u001b[39;49m\u001b[43mlocal_files_only\u001b[49m\u001b[43m,\u001b[49m\n\u001b[0;32m   1248\u001b[0m \u001b[43m        \u001b[49m\u001b[43mforce_download\u001b[49m\u001b[38;5;241;43m=\u001b[39;49m\u001b[43mforce_download\u001b[49m\u001b[43m,\u001b[49m\n\u001b[0;32m   1249\u001b[0m \u001b[43m    \u001b[49m\u001b[43m)\u001b[49m\n",
      "File \u001b[1;32mc:\\Python312\\Lib\\site-packages\\huggingface_hub\\file_download.py:1381\u001b[0m, in \u001b[0;36m_hf_hub_download_to_cache_dir\u001b[1;34m(cache_dir, repo_id, filename, repo_type, revision, endpoint, etag_timeout, headers, proxies, token, local_files_only, force_download)\u001b[0m\n\u001b[0;32m   1379\u001b[0m Path(lock_path)\u001b[38;5;241m.\u001b[39mparent\u001b[38;5;241m.\u001b[39mmkdir(parents\u001b[38;5;241m=\u001b[39m\u001b[38;5;28;01mTrue\u001b[39;00m, exist_ok\u001b[38;5;241m=\u001b[39m\u001b[38;5;28;01mTrue\u001b[39;00m)\n\u001b[0;32m   1380\u001b[0m \u001b[38;5;28;01mwith\u001b[39;00m WeakFileLock(lock_path):\n\u001b[1;32m-> 1381\u001b[0m     \u001b[43m_download_to_tmp_and_move\u001b[49m\u001b[43m(\u001b[49m\n\u001b[0;32m   1382\u001b[0m \u001b[43m        \u001b[49m\u001b[43mincomplete_path\u001b[49m\u001b[38;5;241;43m=\u001b[39;49m\u001b[43mPath\u001b[49m\u001b[43m(\u001b[49m\u001b[43mblob_path\u001b[49m\u001b[43m \u001b[49m\u001b[38;5;241;43m+\u001b[39;49m\u001b[43m \u001b[49m\u001b[38;5;124;43m\"\u001b[39;49m\u001b[38;5;124;43m.incomplete\u001b[39;49m\u001b[38;5;124;43m\"\u001b[39;49m\u001b[43m)\u001b[49m\u001b[43m,\u001b[49m\n\u001b[0;32m   1383\u001b[0m \u001b[43m        \u001b[49m\u001b[43mdestination_path\u001b[49m\u001b[38;5;241;43m=\u001b[39;49m\u001b[43mPath\u001b[49m\u001b[43m(\u001b[49m\u001b[43mblob_path\u001b[49m\u001b[43m)\u001b[49m\u001b[43m,\u001b[49m\n\u001b[0;32m   1384\u001b[0m \u001b[43m        \u001b[49m\u001b[43murl_to_download\u001b[49m\u001b[38;5;241;43m=\u001b[39;49m\u001b[43murl_to_download\u001b[49m\u001b[43m,\u001b[49m\n\u001b[0;32m   1385\u001b[0m \u001b[43m        \u001b[49m\u001b[43mproxies\u001b[49m\u001b[38;5;241;43m=\u001b[39;49m\u001b[43mproxies\u001b[49m\u001b[43m,\u001b[49m\n\u001b[0;32m   1386\u001b[0m \u001b[43m        \u001b[49m\u001b[43mheaders\u001b[49m\u001b[38;5;241;43m=\u001b[39;49m\u001b[43mheaders\u001b[49m\u001b[43m,\u001b[49m\n\u001b[0;32m   1387\u001b[0m \u001b[43m        \u001b[49m\u001b[43mexpected_size\u001b[49m\u001b[38;5;241;43m=\u001b[39;49m\u001b[43mexpected_size\u001b[49m\u001b[43m,\u001b[49m\n\u001b[0;32m   1388\u001b[0m \u001b[43m        \u001b[49m\u001b[43mfilename\u001b[49m\u001b[38;5;241;43m=\u001b[39;49m\u001b[43mfilename\u001b[49m\u001b[43m,\u001b[49m\n\u001b[0;32m   1389\u001b[0m \u001b[43m        \u001b[49m\u001b[43mforce_download\u001b[49m\u001b[38;5;241;43m=\u001b[39;49m\u001b[43mforce_download\u001b[49m\u001b[43m,\u001b[49m\n\u001b[0;32m   1390\u001b[0m \u001b[43m    \u001b[49m\u001b[43m)\u001b[49m\n\u001b[0;32m   1391\u001b[0m     \u001b[38;5;28;01mif\u001b[39;00m \u001b[38;5;129;01mnot\u001b[39;00m os\u001b[38;5;241m.\u001b[39mpath\u001b[38;5;241m.\u001b[39mexists(pointer_path):\n\u001b[0;32m   1392\u001b[0m         _create_symlink(blob_path, pointer_path, new_blob\u001b[38;5;241m=\u001b[39m\u001b[38;5;28;01mTrue\u001b[39;00m)\n",
      "File \u001b[1;32mc:\\Python312\\Lib\\site-packages\\huggingface_hub\\file_download.py:1915\u001b[0m, in \u001b[0;36m_download_to_tmp_and_move\u001b[1;34m(incomplete_path, destination_path, url_to_download, proxies, headers, expected_size, filename, force_download)\u001b[0m\n\u001b[0;32m   1912\u001b[0m         _check_disk_space(expected_size, incomplete_path\u001b[38;5;241m.\u001b[39mparent)\n\u001b[0;32m   1913\u001b[0m         _check_disk_space(expected_size, destination_path\u001b[38;5;241m.\u001b[39mparent)\n\u001b[1;32m-> 1915\u001b[0m     \u001b[43mhttp_get\u001b[49m\u001b[43m(\u001b[49m\n\u001b[0;32m   1916\u001b[0m \u001b[43m        \u001b[49m\u001b[43murl_to_download\u001b[49m\u001b[43m,\u001b[49m\n\u001b[0;32m   1917\u001b[0m \u001b[43m        \u001b[49m\u001b[43mf\u001b[49m\u001b[43m,\u001b[49m\n\u001b[0;32m   1918\u001b[0m \u001b[43m        \u001b[49m\u001b[43mproxies\u001b[49m\u001b[38;5;241;43m=\u001b[39;49m\u001b[43mproxies\u001b[49m\u001b[43m,\u001b[49m\n\u001b[0;32m   1919\u001b[0m \u001b[43m        \u001b[49m\u001b[43mresume_size\u001b[49m\u001b[38;5;241;43m=\u001b[39;49m\u001b[43mresume_size\u001b[49m\u001b[43m,\u001b[49m\n\u001b[0;32m   1920\u001b[0m \u001b[43m        \u001b[49m\u001b[43mheaders\u001b[49m\u001b[38;5;241;43m=\u001b[39;49m\u001b[43mheaders\u001b[49m\u001b[43m,\u001b[49m\n\u001b[0;32m   1921\u001b[0m \u001b[43m        \u001b[49m\u001b[43mexpected_size\u001b[49m\u001b[38;5;241;43m=\u001b[39;49m\u001b[43mexpected_size\u001b[49m\u001b[43m,\u001b[49m\n\u001b[0;32m   1922\u001b[0m \u001b[43m    \u001b[49m\u001b[43m)\u001b[49m\n\u001b[0;32m   1924\u001b[0m logger\u001b[38;5;241m.\u001b[39minfo(\u001b[38;5;124mf\u001b[39m\u001b[38;5;124m\"\u001b[39m\u001b[38;5;124mDownload complete. Moving file to \u001b[39m\u001b[38;5;132;01m{\u001b[39;00mdestination_path\u001b[38;5;132;01m}\u001b[39;00m\u001b[38;5;124m\"\u001b[39m)\n\u001b[0;32m   1925\u001b[0m _chmod_and_move(incomplete_path, destination_path)\n",
      "File \u001b[1;32mc:\\Python312\\Lib\\site-packages\\huggingface_hub\\file_download.py:544\u001b[0m, in \u001b[0;36mhttp_get\u001b[1;34m(url, temp_file, proxies, resume_size, headers, expected_size, displayed_filename, _nb_retries, _tqdm_bar)\u001b[0m\n\u001b[0;32m    542\u001b[0m \u001b[38;5;28;01mif\u001b[39;00m chunk:  \u001b[38;5;66;03m# filter out keep-alive new chunks\u001b[39;00m\n\u001b[0;32m    543\u001b[0m     progress\u001b[38;5;241m.\u001b[39mupdate(\u001b[38;5;28mlen\u001b[39m(chunk))\n\u001b[1;32m--> 544\u001b[0m     \u001b[43mtemp_file\u001b[49m\u001b[38;5;241;43m.\u001b[39;49m\u001b[43mwrite\u001b[49m\u001b[43m(\u001b[49m\u001b[43mchunk\u001b[49m\u001b[43m)\u001b[49m\n\u001b[0;32m    545\u001b[0m     new_resume_size \u001b[38;5;241m+\u001b[39m\u001b[38;5;241m=\u001b[39m \u001b[38;5;28mlen\u001b[39m(chunk)\n\u001b[0;32m    546\u001b[0m     \u001b[38;5;66;03m# Some data has been downloaded from the server so we reset the number of retries.\u001b[39;00m\n",
      "\u001b[1;31mOSError\u001b[0m: [Errno 28] No space left on device"
     ]
    }
   ],
   "source": [
    "tokenizer = AutoTokenizer.from_pretrained(\"google/muril-base-cased\")\n",
    "model = AutoModelForSequenceClassification.from_pretrained(\"google/muril-base-cased\")"
   ]
  },
  {
   "cell_type": "markdown",
   "id": "c23a69dd",
   "metadata": {},
   "source": [
    "### 3. Encode and Calculate Sentiment"
   ]
  },
  {
   "cell_type": "code",
   "execution_count": null,
   "id": "07e8f2b5",
   "metadata": {},
   "outputs": [],
   "source": [
    "tokens = tokenizer.encode('I hated this, absolutely the worse', return_tensors='pt')"
   ]
  },
  {
   "cell_type": "code",
   "execution_count": null,
   "id": "97844f53",
   "metadata": {},
   "outputs": [
    {
     "data": {
      "text/plain": [
       "tensor([[   104,    148, 154519,   1222,    119,  35880,   1108,  40253,    105]])"
      ]
     },
     "execution_count": 4,
     "metadata": {},
     "output_type": "execute_result"
    }
   ],
   "source": [
    "tokens"
   ]
  },
  {
   "cell_type": "code",
   "execution_count": null,
   "id": "9803398a",
   "metadata": {},
   "outputs": [
    {
     "data": {
      "text/plain": [
       "'[CLS] I hated this, absolutely the worse [SEP]'"
      ]
     },
     "execution_count": 5,
     "metadata": {},
     "output_type": "execute_result"
    }
   ],
   "source": [
    "tokenizer.decode(tokens[0])"
   ]
  },
  {
   "cell_type": "code",
   "execution_count": null,
   "id": "14fc861f",
   "metadata": {},
   "outputs": [],
   "source": [
    "tokens2 = tokenizer.encode('Ye bohot bura hua', return_tensors='pt')"
   ]
  },
  {
   "cell_type": "code",
   "execution_count": null,
   "id": "b6654e33",
   "metadata": {},
   "outputs": [
    {
     "data": {
      "text/plain": [
       "tensor([[   104, 144380, 190739,  81025,  67440,   7029,    105]])"
      ]
     },
     "execution_count": 7,
     "metadata": {},
     "output_type": "execute_result"
    }
   ],
   "source": [
    "tokens2"
   ]
  },
  {
   "cell_type": "code",
   "execution_count": null,
   "id": "52027d41",
   "metadata": {},
   "outputs": [
    {
     "data": {
      "text/plain": [
       "tensor([[  104, 90453,   182,  9623,  2208, 25838, 64126,   105]])"
      ]
     },
     "execution_count": 8,
     "metadata": {},
     "output_type": "execute_result"
    }
   ],
   "source": [
    "tokens3 = tokenizer.encode('Mala khup anand zala', return_tensors='pt')\n",
    "tokens3"
   ]
  },
  {
   "cell_type": "code",
   "execution_count": null,
   "id": "f28acc45",
   "metadata": {},
   "outputs": [],
   "source": [
    "result1 = model(tokens)"
   ]
  },
  {
   "cell_type": "code",
   "execution_count": null,
   "id": "8e5219e0",
   "metadata": {},
   "outputs": [
    {
     "data": {
      "text/plain": [
       "tensor([[-0.0009, -0.0059]], grad_fn=<AddmmBackward0>)"
      ]
     },
     "execution_count": 10,
     "metadata": {},
     "output_type": "execute_result"
    }
   ],
   "source": [
    "result1.logits"
   ]
  },
  {
   "cell_type": "code",
   "execution_count": null,
   "id": "0e8885c4",
   "metadata": {},
   "outputs": [
    {
     "data": {
      "text/plain": [
       "tensor(0)"
      ]
     },
     "execution_count": 11,
     "metadata": {},
     "output_type": "execute_result"
    }
   ],
   "source": [
    "torch.argmax(result1.logits)"
   ]
  },
  {
   "cell_type": "code",
   "execution_count": null,
   "id": "cae19420",
   "metadata": {},
   "outputs": [
    {
     "data": {
      "text/plain": [
       "tensor([[  104, 14375,  1635,  1197,  1140,  2525,  1363,  2495,  1226,  1352,\n",
       "          5142,   121,  5846,   105]])"
      ]
     },
     "execution_count": 12,
     "metadata": {},
     "output_type": "execute_result"
    }
   ],
   "source": [
    "tokens4 = tokenizer.encode('Meh it was good but could have been better. Great', return_tensors='pt')\n",
    "tokens4"
   ]
  },
  {
   "cell_type": "code",
   "execution_count": null,
   "id": "78c369e3",
   "metadata": {},
   "outputs": [],
   "source": [
    "result2 = model(tokens4)"
   ]
  },
  {
   "cell_type": "code",
   "execution_count": null,
   "id": "eba36e38",
   "metadata": {},
   "outputs": [
    {
     "data": {
      "text/plain": [
       "tensor([[-0.0010, -0.0061]], grad_fn=<AddmmBackward0>)"
      ]
     },
     "execution_count": 14,
     "metadata": {},
     "output_type": "execute_result"
    }
   ],
   "source": [
    "result2.logits"
   ]
  },
  {
   "cell_type": "code",
   "execution_count": null,
   "id": "cca1fc9b",
   "metadata": {},
   "outputs": [
    {
     "data": {
      "text/plain": [
       "tensor(0)"
      ]
     },
     "execution_count": 15,
     "metadata": {},
     "output_type": "execute_result"
    }
   ],
   "source": [
    "torch.argmax(result2.logits)"
   ]
  },
  {
   "cell_type": "code",
   "execution_count": null,
   "id": "accd90b3",
   "metadata": {},
   "outputs": [
    {
     "data": {
      "text/plain": [
       "tensor([[-0.0009, -0.0059]], grad_fn=<AddmmBackward0>)"
      ]
     },
     "execution_count": 16,
     "metadata": {},
     "output_type": "execute_result"
    }
   ],
   "source": [
    "result3 = model(tokens3)\n",
    "result3.logits"
   ]
  },
  {
   "cell_type": "code",
   "execution_count": null,
   "id": "6748eafd",
   "metadata": {},
   "outputs": [
    {
     "data": {
      "text/plain": [
       "tensor(0)"
      ]
     },
     "execution_count": 17,
     "metadata": {},
     "output_type": "execute_result"
    }
   ],
   "source": [
    "torch.argmax(result3.logits)"
   ]
  },
  {
   "cell_type": "markdown",
   "id": "86a21451",
   "metadata": {},
   "source": [
    "### 4. Collect News"
   ]
  },
  {
   "cell_type": "code",
   "execution_count": null,
   "id": "6d47cfea",
   "metadata": {},
   "outputs": [],
   "source": [
    "r = requests.get('https://www.abplive.com/news')\n",
    "soup = BeautifulSoup(r.text, 'html.parser')\n",
    "regex = re.compile('.*news.*')\n",
    "results = soup.find_all('a', {'class':regex})\n",
    "news = [result.text for result in results]"
   ]
  },
  {
   "cell_type": "code",
   "execution_count": null,
   "id": "f70ab04c",
   "metadata": {},
   "outputs": [
    {
     "data": {
      "text/plain": [
       "['इंडिया',\n",
       " 'विश्व',\n",
       " 'न्यूज़',\n",
       " 'विश्व',\n",
       " 'इंडिया',\n",
       " 'अपराध',\n",
       " 'यूटिलिटी न्यूज़',\n",
       " 'विश्वक्या भारत-बांग्लादेश के बीच कभी सुधरेंगे रिश्ते? मोहम्मद यूनुस ने कर दिया बड़ा खुलासा',\n",
       " 'विश्वजर्मनी में आतंकी हमले की आशंका! ड्राइवर ने भीड़ पर चढ़ाई कार, एक की मौत, हिरासत में संदिग्ध',\n",
       " 'विश्वबांग्लादेश में उथल-पुथल मचाने की कौन रच रहा साजिश? मोहम्मद यूनुस ने कर दिया बड़ा खुलासा',\n",
       " 'इंडियाबेटी की खैरियत जानने पिता पहुंचा HC, सरकार बोली- शहजादी खान को पिछले महीने ही दुबई में दी जा चुकी है फांसी',\n",
       " \"इंडियारश्मिका मंदाना ने किया कन्नड़ भाषा का अपमान! कांग्रेस विधायक बोले- 'उन्हें सबक सिखाना चाहिए'\",\n",
       " '\\n\\nविश्व\\n\\nन्यूक्लियर पावर बनने ही वाला था ताइवान, इस एजेंट ने अमेरिका को लीक कर दिया था सीक्रेट प्लान\\n\\t\\t\\t\\t\\t\\t\\t\\t\\t\\n',\n",
       " '\\n\\nविश्व\\n\\nअमेरिका के कैरोलिना के जंगल में दहक रही आग, डोनाल्ड ट्रंप बीच के किनारे खेलते नजर आए गोल्फ\\n\\t\\t\\t\\t\\t\\t\\t\\t\\t\\n',\n",
       " \"\\n\\nक्रिकेट\\n\\nरोहित शर्मा को 'मोटा' कहने पर भारी बवाल, BJP बोली- राहुल गांधी अनफिट, हमें भारतीय कप्तान पर गर्व\\n\\t\\t\\t\\t\\t\\t\\t\\t\\t\\n\",\n",
       " \"\\n\\nविश्व\\n\\nपाकिस्तान स्पेस भेज रहा एस्ट्रोनॉट तो भारत के मिशनों का जिक्र कर बोले पाक एक्सपर्ट- 'खुद को तीस मार खां न समझें...'\\n\\t\\t\\t\\t\\t\\t\\t\\t\\t\\n\",\n",
       " '\\n\\nन्यूज़\\n\\nBihar Budget 2025: बजट तो बस झांकी है, घोषणा पत्र अभी बाकी है | ABP News | Bihar News | Nitish Kumar\\n\\t\\t\\t\\t\\t\\t\\t\\t\\t\\n',\n",
       " '\\n\\nन्यूज़\\n\\nRohit Sharma News: क्या रोहित शर्मा वाकई अनफिट हैं? देखिए क्या कह रहे क्रिकेट प्रशंसक| Shama Mohamed | ABP News\\n\\t\\t\\t\\t\\t\\t\\t\\t\\t\\n',\n",
       " \"\\n\\nइंडिया\\n\\n'मीलॉर्ड... मैं सुसाइड कर लूंगा', सुप्रीम कोर्ट में सुनवाई के दौरान बोला वकील, सब रह गए हैरान\\n\\t\\t\\t\\t\\t\\t\\t\\t\\t\\n\",\n",
       " '\\n\\nन्यूज़\\n\\nगांजे के साथ पुलिस ने पकड़ा तो IIT बाबा ये क्या बोल गए | IIT Baba News | ABP NEWS\\n\\t\\t\\t\\t\\t\\t\\t\\t\\t\\n',\n",
       " '\\n\\nन्यूज़\\n\\nShama Mohamed on Rohit Sharma: कप्तान रोहित पर विवादित बयान के बाद बढ़ा विवाद | ABP News | BCCI\\n\\t\\t\\t\\t\\t\\t\\t\\t\\t\\n',\n",
       " '\\n\\nइंडिया\\n\\nसोशल मीडिया पर दोस्ती, बढ़ी नजदीकियां! फिर ऐसा क्या हुआ जो, हिमानी नरवाल को सचिन ने उतारा मौत के घाट\\n\\t\\t\\t\\t\\t\\t\\t\\t\\t\\n',\n",
       " \"\\n\\nन्यूज़\\n\\n'Mahakumbh में इतनी भीड़ होगी सोचा न था..' - CM Yogi | Breaking News | ABP NEWS\\n\\t\\t\\t\\t\\t\\t\\t\\t\\t\\n\",\n",
       " '\\n\\nन्यूज़\\n\\nShama Mohamed on Rohit Sharma: विवादित बयान के बाद कांग्रेस प्रवक्ता ने दी सफाई | ABP News | BCCI\\n\\t\\t\\t\\t\\t\\t\\t\\t\\t\\n',\n",
       " '\\n\\nन्यूज़\\n\\nHimani Narwal Murder: मोबाइल चार्जर से गला घोंट कर की गई हिमानी नरवाल की हत्या? | Breaking News | ABP News\\n\\t\\t\\t\\t\\t\\t\\t\\t\\t\\n',\n",
       " '\\n\\nन्यूज़\\n\\nIIT Baba को मिली जमानत, गांजा के साथ पुलिस ने हिरासत में लिया था | Breaking news | ABP NEWS\\n\\t\\t\\t\\t\\t\\t\\t\\t\\t\\n',\n",
       " '\\n\\nन्यूज़\\n\\nMahakumbh से जब संभल पहुंचा गंगाजल तो मुस्लिमों ने किया कुछ ऐसा...हर कोई हैरान | ABP News\\n\\t\\t\\t\\t\\t\\t\\t\\t\\t\\n',\n",
       " '\\n\\nविश्व\\n\\nइजरायल के हाइफा में चाकू से हमला, एक की मौत और 4 घायल; हमास ने की हमले की तारीफ\\n\\t\\t\\t\\t\\t\\t\\t\\t\\t\\n',\n",
       " '\\n\\nन्यूज़\\n\\nBreaking News: हरियाणा के Faridabad से 1 संदिग्ध हुआ गिरफ्तार | ABP News | Crime News Update | ABP News\\n\\t\\t\\t\\t\\t\\t\\t\\t\\t\\n',\n",
       " '\\n\\nइंडिया\\n\\nराम मंदिर पर हमले की साजिश! UP का रहने वाला संदिग्ध फरीदाबाद से गिरफ्तार, 2 हैंड ग्रेनेड बरामद\\n\\t\\t\\t\\t\\t\\t\\t\\t\\t\\n',\n",
       " 'न्यूज़ ',\n",
       " 'इंडिया ',\n",
       " 'विश्व ',\n",
       " '\\n\\nइंडिया\\n\\n\\n\\n\\n\\n            बेटी की खैरियत जानने पिता पहुंचा HC, सरकार बोली- शहजादी खान को पिछले महीने ही दुबई में दी जा चुकी है फांसी\\n        \\n',\n",
       " \"\\n\\nइंडिया\\n\\n\\n\\n\\n\\n            रश्मिका मंदाना ने किया कन्नड़ भाषा का अपमान! कांग्रेस विधायक बोले- 'उन्हें सबक सिखाना चाहिए'\\n        \\n\",\n",
       " \"\\n\\nइंडिया\\n\\n\\n\\n\\n\\n            'मीलॉर्ड... मैं सुसाइड कर लूंगा', सुप्रीम कोर्ट में सुनवाई के दौरान बोला वकील, सब रह गए हैरान\\n        \\n\",\n",
       " '\\n\\nइंडिया\\n\\n\\n            सोशल मीडिया पर दोस्ती, बढ़ी नजदीकियां! फिर ऐसा क्या हुआ जो, हिमानी नरवाल को सचिन ने उतारा मौत के घाट\\n        \\n',\n",
       " '\\n\\nइंडिया\\n\\n\\n            राम मंदिर पर हमले की साजिश! UP का रहने वाला संदिग्ध फरीदाबाद से गिरफ्तार, 2 हैंड ग्रेनेड बरामद\\n        \\n',\n",
       " '\\n\\nइंडिया\\n\\n\\n            गांजे के साथ गिरफ्तार IITian बाबा! महाकुंभ से वायरल हुए अभय सिंह फिर घिरे विवादों में, जानें पूरी कहानी\\n        \\n',\n",
       " '\\n\\nन्यूज़\\n\\n\\n\\n\\n\\n\\n\\nBihar Budget 2025: बजट तो बस झांकी है, घोषणा पत्र अभी बाकी है | ABP News | Bihar News | Nitish Kumar\\n                \\n',\n",
       " '\\n\\n\\n\\n\\n\\n\\n\\n\\nRohit Sharma News: क्या रोहित शर्मा वाकई अनफिट हैं? देखिए क्या कह रहे क्रिकेट प्रशंसक| Shama Mohamed | ABP News\\n                \\n',\n",
       " '\\n\\n\\n\\n\\n\\n\\n\\n\\nगांजे के साथ पुलिस ने पकड़ा तो IIT बाबा ये क्या बोल गए | IIT Baba News | ABP NEWS\\n                \\n',\n",
       " '\\n\\n\\n\\n\\n\\n\\n\\n\\nShama Mohamed on Rohit Sharma: कप्तान रोहित पर विवादित बयान के बाद बढ़ा विवाद | ABP News | BCCI\\n                \\n',\n",
       " \"\\n\\n\\n\\n\\n\\n\\n\\n\\n'Mahakumbh में इतनी भीड़ होगी सोचा न था..' - CM Yogi | Breaking News | ABP NEWS\\n                \\n\",\n",
       " '\\n\\nविश्व\\n\\n\\n\\n\\n\\n            क्या भारत-बांग्लादेश के बीच कभी सुधरेंगे रिश्ते? मोहम्मद यूनुस ने कर दिया बड़ा खुलासा\\n        \\n',\n",
       " '\\n\\nविश्व\\n\\n\\n\\n\\n\\n            जर्मनी में आतंकी हमले की आशंका! ड्राइवर ने भीड़ पर चढ़ाई कार, एक की मौत, हिरासत में संदिग्ध\\n        \\n',\n",
       " '\\n\\nविश्व\\n\\n\\n\\n\\n\\n            बांग्लादेश में उथल-पुथल मचाने की कौन रच रहा साजिश? मोहम्मद यूनुस ने कर दिया बड़ा खुलासा\\n        \\n',\n",
       " '\\n\\nविश्व\\n\\n\\n            न्यूक्लियर पावर बनने ही वाला था ताइवान, इस एजेंट ने अमेरिका को लीक कर दिया था सीक्रेट प्लान\\n        \\n',\n",
       " '\\n\\nविश्व\\n\\n\\n            अमेरिका के कैरोलिना के जंगल में दहक रही आग, डोनाल्ड ट्रंप बीच के किनारे खेलते नजर आए गोल्फ\\n        \\n',\n",
       " \"\\n\\nविश्व\\n\\n\\n            पाकिस्तान स्पेस भेज रहा एस्ट्रोनॉट तो भारत के मिशनों का जिक्र कर बोले पाक एक्सपर्ट- 'खुद को तीस मार खां न समझें...'\\n        \\n\",\n",
       " '\\n\\nइंडिया\\n\\n\\n\\n\\n\\n\\n\\nबेटी की खैरियत जानने पिता पहुंचा HC, सरकार बोली- शहजादी खान को पिछले महीने ही दुबई में दी जा चुकी है फांसी\\n        \\n\\n',\n",
       " '\\n\\nबिहार\\n\\n\\n\\n\\n\\n\\n\\nक्या पक रही है खिचड़ी? सदन में बजट पेश कर रहे थे सम्राट चौधरी, तेजस्वी यादव को देख CM ने किया इशारा\\n        \\n\\n',\n",
       " '\\n\\nबॉलीवुड\\n\\n\\n\\n\\n\\n\\n\\nमांग में सिंदूर...माथे पर बिंदी, रमजान के बीच सोनाक्षी ने फ्लॉन्ट किया देसी लुक\\n        \\n\\n',\n",
       " '\\n\\nक्रिकेट\\n\\n\\n\\n\\n\\n\\n\\nकब और कहां खेले जाएंगे 2025 चैंपियंस ट्रॉफी के दोनों सेमीफाइनल? एक क्लिक में जानें दोनों मुकाबलों की फुल डिटेल्स\\n        \\n\\n',\n",
       " 'इंडियाबेटी की खैरियत जानने पिता पहुंचा HC, सरकार बोली- शहजादी खान को पिछले महीने ही दुबई में दी जा चुकी है फांसी',\n",
       " 'बिहारक्या पक रही है खिचड़ी? सदन में बजट पेश कर रहे थे सम्राट चौधरी, तेजस्वी यादव को देख CM ने किया इशारा',\n",
       " 'बॉलीवुडमांग में सिंदूर...माथे पर बिंदी, रमजान के बीच सोनाक्षी ने फ्लॉन्ट किया देसी लुक',\n",
       " 'क्रिकेटकब और कहां खेले जाएंगे 2025 चैंपियंस ट्रॉफी के दोनों सेमीफाइनल? एक क्लिक में जानें दोनों मुकाबलों की फुल डिटेल्स',\n",
       " 'विश्वबांग्लादेश में उथल-पुथल मचाने की कौन रच रहा साजिश? मोहम्मद यूनुस ने कर दिया बड़ा खुलासा',\n",
       " 'ट्रेंडिंगलगता है पहली बार पाला पड़ा है...शॉपिंग माल में एस्क्लेटर से ऐसे उतरीं भौजाई, आने लगे चक्कर; देखें वीडियो',\n",
       " 'Blogअलग-अलग राहों पर बिहार में चल पड़े राजद और कांग्रेस!',\n",
       " 'हेल्थआसपास मौजूद इन चीजों से बहरे हो रहे हैं आप, हियरिंग लॉस से बचने के लिए ये हैं पांच आसान तरीके']"
      ]
     },
     "execution_count": 19,
     "metadata": {},
     "output_type": "execute_result"
    }
   ],
   "source": [
    "news"
   ]
  },
  {
   "cell_type": "markdown",
   "id": "ae6c6a85",
   "metadata": {},
   "source": [
    " ### 5. Load News into DataFrame and Score"
   ]
  },
  {
   "cell_type": "code",
   "execution_count": null,
   "id": "c81110b9",
   "metadata": {},
   "outputs": [],
   "source": [
    "import pandas as pd\n",
    "import numpy as np"
   ]
  },
  {
   "cell_type": "code",
   "execution_count": null,
   "id": "0c0c9a69",
   "metadata": {},
   "outputs": [],
   "source": [
    "df = pd.DataFrame(np.array(news), columns=['news'])"
   ]
  },
  {
   "cell_type": "code",
   "execution_count": null,
   "id": "b15f3b29",
   "metadata": {},
   "outputs": [
    {
     "data": {
      "text/html": [
       "<div>\n",
       "<style scoped>\n",
       "    .dataframe tbody tr th:only-of-type {\n",
       "        vertical-align: middle;\n",
       "    }\n",
       "\n",
       "    .dataframe tbody tr th {\n",
       "        vertical-align: top;\n",
       "    }\n",
       "\n",
       "    .dataframe thead th {\n",
       "        text-align: right;\n",
       "    }\n",
       "</style>\n",
       "<table border=\"1\" class=\"dataframe\">\n",
       "  <thead>\n",
       "    <tr style=\"text-align: right;\">\n",
       "      <th></th>\n",
       "      <th>news</th>\n",
       "    </tr>\n",
       "  </thead>\n",
       "  <tbody>\n",
       "    <tr>\n",
       "      <th>57</th>\n",
       "      <td>क्रिकेटकब और कहां खेले जाएंगे 2025 चैंपियंस ट्...</td>\n",
       "    </tr>\n",
       "    <tr>\n",
       "      <th>58</th>\n",
       "      <td>विश्वबांग्लादेश में उथल-पुथल मचाने की कौन रच र...</td>\n",
       "    </tr>\n",
       "    <tr>\n",
       "      <th>59</th>\n",
       "      <td>ट्रेंडिंगलगता है पहली बार पाला पड़ा है...शॉपिं...</td>\n",
       "    </tr>\n",
       "    <tr>\n",
       "      <th>60</th>\n",
       "      <td>Blogअलग-अलग राहों पर बिहार में चल पड़े राजद और ...</td>\n",
       "    </tr>\n",
       "    <tr>\n",
       "      <th>61</th>\n",
       "      <td>हेल्थआसपास मौजूद इन चीजों से बहरे हो रहे हैं आ...</td>\n",
       "    </tr>\n",
       "  </tbody>\n",
       "</table>\n",
       "</div>"
      ],
      "text/plain": [
       "                                                 news\n",
       "57  क्रिकेटकब और कहां खेले जाएंगे 2025 चैंपियंस ट्...\n",
       "58  विश्वबांग्लादेश में उथल-पुथल मचाने की कौन रच र...\n",
       "59  ट्रेंडिंगलगता है पहली बार पाला पड़ा है...शॉपिं...\n",
       "60  Blogअलग-अलग राहों पर बिहार में चल पड़े राजद और ...\n",
       "61  हेल्थआसपास मौजूद इन चीजों से बहरे हो रहे हैं आ..."
      ]
     },
     "execution_count": 22,
     "metadata": {},
     "output_type": "execute_result"
    }
   ],
   "source": [
    "df.tail()"
   ]
  },
  {
   "cell_type": "code",
   "execution_count": null,
   "id": "8131a1b7",
   "metadata": {},
   "outputs": [
    {
     "data": {
      "text/plain": [
       "'\\n\\nविश्व\\n\\n\\n\\n\\n\\n            जर्मनी में आतंकी हमले की आशंका! ड्राइवर ने भीड़ पर चढ़ाई कार, एक की मौत, हिरासत में संदिग्ध\\n        \\n'"
      ]
     },
     "execution_count": 23,
     "metadata": {},
     "output_type": "execute_result"
    }
   ],
   "source": [
    "df['news'].iloc[45]"
   ]
  },
  {
   "cell_type": "code",
   "execution_count": null,
   "id": "ae5686fb",
   "metadata": {},
   "outputs": [],
   "source": [
    "def sentiment_score(news):\n",
    "    tokens = tokenizer.encode(news, return_tensors='pt')\n",
    "    result = model(tokens)\n",
    "    return int(torch.argmax(result.logits))+1"
   ]
  },
  {
   "cell_type": "code",
   "execution_count": null,
   "id": "6c1db4d6",
   "metadata": {},
   "outputs": [
    {
     "data": {
      "text/plain": [
       "1"
      ]
     },
     "execution_count": 25,
     "metadata": {},
     "output_type": "execute_result"
    }
   ],
   "source": [
    "sentiment_score(df['news'].iloc[9])"
   ]
  },
  {
   "cell_type": "code",
   "execution_count": null,
   "id": "5caf6b9a",
   "metadata": {},
   "outputs": [],
   "source": [
    "df['sentiment'] = df['news'].apply(lambda x: sentiment_score(x[:512]))"
   ]
  },
  {
   "cell_type": "code",
   "execution_count": null,
   "id": "d2f7a247",
   "metadata": {},
   "outputs": [
    {
     "data": {
      "text/html": [
       "<div>\n",
       "<style scoped>\n",
       "    .dataframe tbody tr th:only-of-type {\n",
       "        vertical-align: middle;\n",
       "    }\n",
       "\n",
       "    .dataframe tbody tr th {\n",
       "        vertical-align: top;\n",
       "    }\n",
       "\n",
       "    .dataframe thead th {\n",
       "        text-align: right;\n",
       "    }\n",
       "</style>\n",
       "<table border=\"1\" class=\"dataframe\">\n",
       "  <thead>\n",
       "    <tr style=\"text-align: right;\">\n",
       "      <th></th>\n",
       "      <th>news</th>\n",
       "      <th>sentiment</th>\n",
       "    </tr>\n",
       "  </thead>\n",
       "  <tbody>\n",
       "    <tr>\n",
       "      <th>0</th>\n",
       "      <td>इंडिया</td>\n",
       "      <td>1</td>\n",
       "    </tr>\n",
       "    <tr>\n",
       "      <th>1</th>\n",
       "      <td>विश्व</td>\n",
       "      <td>1</td>\n",
       "    </tr>\n",
       "    <tr>\n",
       "      <th>2</th>\n",
       "      <td>न्यूज़</td>\n",
       "      <td>1</td>\n",
       "    </tr>\n",
       "    <tr>\n",
       "      <th>3</th>\n",
       "      <td>विश्व</td>\n",
       "      <td>1</td>\n",
       "    </tr>\n",
       "    <tr>\n",
       "      <th>4</th>\n",
       "      <td>इंडिया</td>\n",
       "      <td>1</td>\n",
       "    </tr>\n",
       "    <tr>\n",
       "      <th>...</th>\n",
       "      <td>...</td>\n",
       "      <td>...</td>\n",
       "    </tr>\n",
       "    <tr>\n",
       "      <th>57</th>\n",
       "      <td>क्रिकेटकब और कहां खेले जाएंगे 2025 चैंपियंस ट्...</td>\n",
       "      <td>1</td>\n",
       "    </tr>\n",
       "    <tr>\n",
       "      <th>58</th>\n",
       "      <td>विश्वबांग्लादेश में उथल-पुथल मचाने की कौन रच र...</td>\n",
       "      <td>1</td>\n",
       "    </tr>\n",
       "    <tr>\n",
       "      <th>59</th>\n",
       "      <td>ट्रेंडिंगलगता है पहली बार पाला पड़ा है...शॉपिं...</td>\n",
       "      <td>1</td>\n",
       "    </tr>\n",
       "    <tr>\n",
       "      <th>60</th>\n",
       "      <td>Blogअलग-अलग राहों पर बिहार में चल पड़े राजद और ...</td>\n",
       "      <td>1</td>\n",
       "    </tr>\n",
       "    <tr>\n",
       "      <th>61</th>\n",
       "      <td>हेल्थआसपास मौजूद इन चीजों से बहरे हो रहे हैं आ...</td>\n",
       "      <td>1</td>\n",
       "    </tr>\n",
       "  </tbody>\n",
       "</table>\n",
       "<p>62 rows × 2 columns</p>\n",
       "</div>"
      ],
      "text/plain": [
       "                                                 news  sentiment\n",
       "0                                              इंडिया          1\n",
       "1                                               विश्व          1\n",
       "2                                              न्यूज़          1\n",
       "3                                               विश्व          1\n",
       "4                                              इंडिया          1\n",
       "..                                                ...        ...\n",
       "57  क्रिकेटकब और कहां खेले जाएंगे 2025 चैंपियंस ट्...          1\n",
       "58  विश्वबांग्लादेश में उथल-पुथल मचाने की कौन रच र...          1\n",
       "59  ट्रेंडिंगलगता है पहली बार पाला पड़ा है...शॉपिं...          1\n",
       "60  Blogअलग-अलग राहों पर बिहार में चल पड़े राजद और ...          1\n",
       "61  हेल्थआसपास मौजूद इन चीजों से बहरे हो रहे हैं आ...          1\n",
       "\n",
       "[62 rows x 2 columns]"
      ]
     },
     "execution_count": 27,
     "metadata": {},
     "output_type": "execute_result"
    }
   ],
   "source": [
    "df"
   ]
  }
 ],
 "metadata": {
  "kernelspec": {
   "display_name": "Python 3",
   "language": "python",
   "name": "python3"
  },
  "language_info": {
   "codemirror_mode": {
    "name": "ipython",
    "version": 3
   },
   "file_extension": ".py",
   "mimetype": "text/x-python",
   "name": "python",
   "nbconvert_exporter": "python",
   "pygments_lexer": "ipython3",
   "version": "3.12.3"
  }
 },
 "nbformat": 4,
 "nbformat_minor": 5
}
