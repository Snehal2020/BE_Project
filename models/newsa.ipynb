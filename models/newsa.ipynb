{
 "cells": [
  {
   "cell_type": "code",
   "execution_count": 1,
   "metadata": {},
   "outputs": [
    {
     "name": "stdout",
     "output_type": "stream",
     "text": [
      "Requirement already satisfied: requests in c:\\users\\hpind\\appdata\\roaming\\python\\python312\\site-packages (2.31.0)\n",
      "Requirement already satisfied: charset-normalizer<4,>=2 in c:\\users\\hpind\\appdata\\roaming\\python\\python312\\site-packages (from requests) (3.3.1)\n",
      "Requirement already satisfied: idna<4,>=2.5 in c:\\users\\hpind\\appdata\\roaming\\python\\python312\\site-packages (from requests) (3.4)\n",
      "Requirement already satisfied: urllib3<3,>=1.21.1 in c:\\users\\hpind\\appdata\\roaming\\python\\python312\\site-packages (from requests) (2.0.7)\n",
      "Requirement already satisfied: certifi>=2017.4.17 in c:\\users\\hpind\\appdata\\roaming\\python\\python312\\site-packages (from requests) (2023.7.22)\n",
      "Note: you may need to restart the kernel to use updated packages.\n"
     ]
    }
   ],
   "source": [
    "pip install requests"
   ]
  },
  {
   "cell_type": "code",
   "execution_count": 2,
   "metadata": {},
   "outputs": [],
   "source": [
    "import requests\n",
    "import json"
   ]
  },
  {
   "cell_type": "code",
   "execution_count": 3,
   "metadata": {},
   "outputs": [],
   "source": [
    "api_key = \"033302b4ad3c4ca1bc664e1c784bb622\"\n",
    "url = f\"https://newsapi.org/v2/top-headlines?country=us&apiKey={api_key}\""
   ]
  },
  {
   "cell_type": "code",
   "execution_count": 4,
   "metadata": {},
   "outputs": [],
   "source": [
    "response = requests.get(url)\n",
    "data = response.json()"
   ]
  },
  {
   "cell_type": "code",
   "execution_count": 5,
   "metadata": {},
   "outputs": [
    {
     "name": "stdout",
     "output_type": "stream",
     "text": [
      "Title: Trump returns to Butler for rally at site of assassination attempt - CNN\n",
      "Description: Donald Trump is returning Saturday to the Pennsylvania venue where he narrowly survived an assassination attempt in July, holding a high-profile rally in what his allies are billing as a key moment as the 2024 race for the White House enters its final month.\n",
      "URL: https://www.cnn.com/2024/10/05/politics/trump-returns-to-butler/index.html\n",
      "\n",
      "Title: Nasrallah's possible successor out of contact since Friday, Lebanese source says - Reuters\n",
      "Description: None\n",
      "URL: https://www.reuters.com/world/middle-east/hamas-armed-wing-leader-killed-israeli-strike-north-lebanon-hamas-media-says-2024-10-05/\n",
      "\n",
      "Title: Iran’s missile attack on Israel raises questions about limits of arsenal - The Washington Post\n",
      "Description: Iran’s missile attack on Israel this week stood out for its large scope and limited impact. Some analysts say it calls into question the value of Ian’s arsenal.\n",
      "URL: https://www.washingtonpost.com/world/2024/10/05/iran-missiles-attack-israel-deterrence/\n",
      "\n",
      "Title: Haunted by 2016, Democrats fear Kamala Harris is playing it too safe - POLITICO\n",
      "Description: Trump is everywhere. Democrats are increasingly wondering why Harris isn’t.\n",
      "URL: https://www.politico.com/news/2024/10/05/harris-30-days-00182592\n",
      "\n",
      "Title: Eye Opener: At least 70 people killed in gang attack in Haiti, United Nations says - CBS News\n",
      "Description: The United Nations said at least 70 people have been killed in a gang attack in Haiti. Meanwhile, a 21-year-old Yazidi woman was rescued from Gaza after a decade. All that and all that matters in today's Eye Opener.\n",
      "URL: https://www.cbsnews.com/video/eye-opener-at-least-70-people-killed-in-gang-attack-in-haiti-united-nations-says/\n",
      "\n",
      "Title: Two more women in Massachusetts test positive for West Nile Virus - WCVB Boston\n",
      "Description: The new cases bring the total this year to 15.\n",
      "URL: https://www.wcvb.com/article/massachusetts-west-nile-virus-oct-4/62517520\n",
      "\n",
      "Title: Could struggling Jets WR Garrett Wilson benefit from trading for Davante Adams? - ESPN\n",
      "Description: Randall Cobb has seen this before, so he talks about how acquiring the veteran receiver can be beneficial.\n",
      "URL: https://www.espn.com/nfl/story/_/id/41597542/new-york-jets-garrett-wilson-struggles-davante-adams-aaron-rodgers\n",
      "\n",
      "Title: What is the deadly Marburg virus and where has it spread? - Al Jazeera English\n",
      "Description: World Health Organization warns outbreak risk is ‘very high at the national level’ in Rwanda, but low globally.\n",
      "URL: https://www.aljazeera.com/news/2024/10/5/what-is-the-deadly-marburg-virus-and-where-has-it-spread\n",
      "\n",
      "Title: Floods and landslides leave 16 dead in Bosnia - BBC.com\n",
      "Description: Towns and villages are cut off and homes almost submerged by flash floods in central Bosnia-Herzegovina.\n",
      "URL: https://www.bbc.com/news/articles/c4g5elll48lo\n",
      "\n",
      "Title: Biden makes first White House press briefing appearance of presidency - Axios\n",
      "Description: Biden, for the first time during his presidency, took questions from reporters in the press briefing room.\n",
      "URL: https://www.axios.com/2024/10/04/biden-white-house-press-briefing-surprise\n",
      "\n",
      "Title: Ultra-processed foods have these repercussions on children's health, nutritionist warns - Fox News\n",
      "Description: Research shows how much processed foods Americans eat and the dire health consequences. Registered dietitian nutritionist Ilana Muhlstein offers tips for parents to improve their kids' diets.\n",
      "URL: https://www.foxnews.com/health/ultra-processed-foods-repercussions-childrens-health-nutritionist-warns\n",
      "\n",
      "Title: Earth has had two moons in the past. One of the mini-moons has visited twice and will return in 27 years - WION\n",
      "Description: Earth now officially has two moons after its gravity caught an asteroid. Our planet captured asteroid 2024 PT5 on Sunday, September 29, which has now become our mini-moon. However, do you know that this is not the first time Earth has had a mini-moon?\n",
      "\n",
      "The as…\n",
      "URL: https://www.wionews.com/science/earth-has-hosted-mini-moons-before-and-one-of-them-will-revisit-in-27-years-764394\n",
      "\n",
      "Title: One year in, war casts a shadow over every aspect of life in Israel - The Associated Press\n",
      "Description: Across Israel, it can seem on the surface that much of life has returned to normal, but a year of war has cast a pall and is affecting nearly every facet of daily life. At bars and cafes, there's laughter and life as diners spill into outdoor seating and clin…\n",
      "URL: https://apnews.com/article/israel-hamas-gaza-war-israelis-mood-depression-28daf7e6aa8ddab419cf76e31b111d4f\n",
      "\n",
      "Title: UFC 307 Results: Pereira vs. Rountree Jr. - MMA Fighting\n",
      "Description: Get UFC 307 results for the Pereira vs. Rountree Jr. event Saturday evening in Salt Lake City.\n",
      "URL: https://www.mmafighting.com/2024/10/5/24261669/ufc-307-results-pereira-vs-rountree-jr\n",
      "\n",
      "Title: The northern lights could be visible in Massachusetts again. See the aurora forecast map. - CBS Boston\n",
      "Description: There's a chance the northern lights could make an appearance over Massachusetts tonight, according to the aurora forecast.\n",
      "URL: https://www.cbsnews.com/boston/news/northern-lights-massachusetts-forecast-map/\n",
      "\n",
      "Title: Hurricane Helene: Political row erupts overs disaster relief - BBC.com\n",
      "Description: Trump slams Fema for spending money on migrants, but the agency says those funds did not come from its hurricane relief.\n",
      "URL: https://www.bbc.com/news/articles/c5y3qgqxpwno\n",
      "\n",
      "Title: Historic Biltmore Estate suffers ‘extensive’ damage in some places after Helene thrashes North Carolina - CNN\n",
      "Description: The 8,000-acre Biltmore Estate, Asheville’s biggest attraction that welcomes 1.4 million visitors a year, has significant damage in some buildings after Helene ripped through Western North Carolina, the Biltmore said.\n",
      "URL: https://www.cnn.com/travel/biltmore-estate-damage-asheville-helene/index.html\n",
      "\n",
      "Title: Helene destroyed this North Carolina campground, but customers and strangers are stepping in to help - CBS News\n",
      "Description: On the website of the Mountain River Family Campground, old customers and total strangers began reserving campsites, leaving comments like, \"I know we can't come.\"\n",
      "URL: https://www.cbsnews.com/news/north-carolina-helene-mountain-river-family-campground/\n",
      "\n",
      "Title: How worried should I be about rising oil prices? - BBC.com\n",
      "Description: As the conflict across the Middle East widens, rising oil prices are being closely watched.\n",
      "URL: https://www.bbc.com/news/articles/cgry10924jqo\n",
      "\n",
      "Title: Garth Brooks called wife Trisha Yearwood his ‘partner in good times’ and ‘bad’ days before being accused of rape - Page Six\n",
      "Description: The couple tied the knot in December 2005 after getting engaged earlier that year.\n",
      "URL: https://pagesix.com/2024/10/04/celebrity-news/garth-brooks-gushed-over-wife-trisha-yearwood-before-being-accused-of-rape/\n",
      "\n"
     ]
    }
   ],
   "source": [
    "articles = data['articles']\n",
    "for article in articles:\n",
    "    print(f\"Title: {article['title']}\")\n",
    "    print(f\"Description: {article['description']}\")\n",
    "    print(f\"URL: {article['url']}\\n\")"
   ]
  },
  {
   "cell_type": "code",
   "execution_count": null,
   "metadata": {},
   "outputs": [
    {
     "name": "stdout",
     "output_type": "stream",
     "text": [
      "❌ File NOT found! Please check the path.\n"
     ]
    }
   ],
   "source": [
    "import os\n",
    "\n",
    "dataset_path = \"C:\\Users\\sneha\\OneDrive\\Desktop\\Final_year_project\\models\\train.tsv\"\n",
    "\n",
    "if os.path.exists(dataset_path):\n",
    "    print(\"✅ File found!\")\n",
    "else:\n",
    "    print(\"❌ File NOT found! Please check the path.\")\n"
   ]
  }
 ],
 "metadata": {
  "kernelspec": {
   "display_name": "Python 3",
   "language": "python",
   "name": "python3"
  },
  "language_info": {
   "codemirror_mode": {
    "name": "ipython",
    "version": 3
   },
   "file_extension": ".py",
   "mimetype": "text/x-python",
   "name": "python",
   "nbconvert_exporter": "python",
   "pygments_lexer": "ipython3",
   "version": "3.12.3"
  }
 },
 "nbformat": 4,
 "nbformat_minor": 2
}
