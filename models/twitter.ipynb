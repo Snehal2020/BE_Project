{
 "cells": [
  {
   "cell_type": "code",
   "execution_count": 2,
   "metadata": {},
   "outputs": [
    {
     "name": "stdout",
     "output_type": "stream",
     "text": [
      "Requirement already satisfied: snscrape in c:\\python312\\lib\\site-packages (0.7.0.20230622)\n",
      "Requirement already satisfied: pandas in c:\\users\\hpind\\appdata\\roaming\\python\\python312\\site-packages (2.1.2)\n",
      "Requirement already satisfied: numpy in c:\\python312\\lib\\site-packages (1.26.3)\n",
      "Requirement already satisfied: requests[socks] in c:\\users\\hpind\\appdata\\roaming\\python\\python312\\site-packages (from snscrape) (2.31.0)\n",
      "Requirement already satisfied: lxml in c:\\python312\\lib\\site-packages (from snscrape) (5.3.0)\n",
      "Requirement already satisfied: beautifulsoup4 in c:\\users\\hpind\\appdata\\roaming\\python\\python312\\site-packages (from snscrape) (4.12.2)\n",
      "Requirement already satisfied: filelock in c:\\python312\\lib\\site-packages (from snscrape) (3.13.1)\n",
      "Requirement already satisfied: python-dateutil>=2.8.2 in c:\\users\\hpind\\appdata\\roaming\\python\\python312\\site-packages (from pandas) (2.8.2)\n",
      "Requirement already satisfied: pytz>=2020.1 in c:\\python312\\lib\\site-packages (from pandas) (2024.1)\n",
      "Requirement already satisfied: tzdata>=2022.1 in c:\\users\\hpind\\appdata\\roaming\\python\\python312\\site-packages (from pandas) (2023.3)\n",
      "Requirement already satisfied: six>=1.5 in c:\\users\\hpind\\appdata\\roaming\\python\\python312\\site-packages (from python-dateutil>=2.8.2->pandas) (1.16.0)\n",
      "Requirement already satisfied: soupsieve>1.2 in c:\\users\\hpind\\appdata\\roaming\\python\\python312\\site-packages (from beautifulsoup4->snscrape) (2.5)\n",
      "Requirement already satisfied: charset-normalizer<4,>=2 in c:\\users\\hpind\\appdata\\roaming\\python\\python312\\site-packages (from requests[socks]->snscrape) (3.3.1)\n",
      "Requirement already satisfied: idna<4,>=2.5 in c:\\users\\hpind\\appdata\\roaming\\python\\python312\\site-packages (from requests[socks]->snscrape) (3.4)\n",
      "Requirement already satisfied: urllib3<3,>=1.21.1 in c:\\users\\hpind\\appdata\\roaming\\python\\python312\\site-packages (from requests[socks]->snscrape) (2.0.7)\n",
      "Requirement already satisfied: certifi>=2017.4.17 in c:\\users\\hpind\\appdata\\roaming\\python\\python312\\site-packages (from requests[socks]->snscrape) (2023.7.22)\n",
      "Requirement already satisfied: PySocks!=1.5.7,>=1.5.6 in c:\\python312\\lib\\site-packages (from requests[socks]->snscrape) (1.7.1)\n"
     ]
    }
   ],
   "source": [
    "!pip install snscrape pandas numpy"
   ]
  },
  {
   "cell_type": "code",
   "execution_count": 1,
   "metadata": {},
   "outputs": [
    {
     "ename": "AttributeError",
     "evalue": "'FileFinder' object has no attribute 'find_module'",
     "output_type": "error",
     "traceback": [
      "\u001b[1;31m---------------------------------------------------------------------------\u001b[0m",
      "\u001b[1;31mAttributeError\u001b[0m                            Traceback (most recent call last)",
      "Cell \u001b[1;32mIn[1], line 1\u001b[0m\n\u001b[1;32m----> 1\u001b[0m \u001b[38;5;28;01mimport\u001b[39;00m \u001b[38;5;21;01msnscrape\u001b[39;00m\u001b[38;5;21;01m.\u001b[39;00m\u001b[38;5;21;01mmodules\u001b[39;00m\u001b[38;5;21;01m.\u001b[39;00m\u001b[38;5;21;01mtwitter\u001b[39;00m \u001b[38;5;28;01mas\u001b[39;00m \u001b[38;5;21;01msntwitter\u001b[39;00m\n\u001b[0;32m      2\u001b[0m \u001b[38;5;28;01mimport\u001b[39;00m \u001b[38;5;21;01mpandas\u001b[39;00m \u001b[38;5;28;01mas\u001b[39;00m \u001b[38;5;21;01mpd\u001b[39;00m\n\u001b[0;32m      3\u001b[0m \u001b[38;5;28;01mimport\u001b[39;00m \u001b[38;5;21;01mnumpy\u001b[39;00m \u001b[38;5;28;01mas\u001b[39;00m \u001b[38;5;21;01mnp\u001b[39;00m\n",
      "File \u001b[1;32mc:\\Python312\\Lib\\site-packages\\snscrape\\modules\\__init__.py:17\u001b[0m\n\u001b[0;32m     13\u001b[0m \t\tmodule \u001b[38;5;241m=\u001b[39m importer\u001b[38;5;241m.\u001b[39mfind_module(moduleName)\u001b[38;5;241m.\u001b[39mload_module(moduleName)\n\u001b[0;32m     14\u001b[0m \t\t\u001b[38;5;28mglobals\u001b[39m()[moduleNameWithoutPrefix] \u001b[38;5;241m=\u001b[39m module\n\u001b[1;32m---> 17\u001b[0m \u001b[43m_import_modules\u001b[49m\u001b[43m(\u001b[49m\u001b[43m)\u001b[49m\n",
      "File \u001b[1;32mc:\\Python312\\Lib\\site-packages\\snscrape\\modules\\__init__.py:13\u001b[0m, in \u001b[0;36m_import_modules\u001b[1;34m()\u001b[0m\n\u001b[0;32m     11\u001b[0m moduleNameWithoutPrefix \u001b[38;5;241m=\u001b[39m moduleName[prefixLen:]\n\u001b[0;32m     12\u001b[0m __all__\u001b[38;5;241m.\u001b[39mappend(moduleNameWithoutPrefix)\n\u001b[1;32m---> 13\u001b[0m module \u001b[38;5;241m=\u001b[39m \u001b[43mimporter\u001b[49m\u001b[38;5;241;43m.\u001b[39;49m\u001b[43mfind_module\u001b[49m(moduleName)\u001b[38;5;241m.\u001b[39mload_module(moduleName)\n\u001b[0;32m     14\u001b[0m \u001b[38;5;28mglobals\u001b[39m()[moduleNameWithoutPrefix] \u001b[38;5;241m=\u001b[39m module\n",
      "\u001b[1;31mAttributeError\u001b[0m: 'FileFinder' object has no attribute 'find_module'"
     ]
    }
   ],
   "source": [
    "import snscrape.modules.twitter as sntwitter\n",
    "import pandas as pd\n",
    "import numpy as np\n",
    "from datetime import datetime, timedelta"
   ]
  },
  {
   "cell_type": "code",
   "execution_count": 8,
   "metadata": {},
   "outputs": [],
   "source": [
    "import pandas as pd\n",
    "import numpy as np\n",
    "from datetime import datetime, timedelta"
   ]
  },
  {
   "cell_type": "code",
   "execution_count": 14,
   "metadata": {},
   "outputs": [
    {
     "name": "stdout",
     "output_type": "stream",
     "text": [
      "Generating sample dataset...\n",
      "Generated 0 tweets...\n",
      "Generated 20 tweets...\n",
      "Generated 40 tweets...\n",
      "Generated 60 tweets...\n",
      "Generated 80 tweets...\n",
      "\n",
      "Dataset generation complete! Created 100 sample tweets.\n",
      "\n",
      "Dataset saved to 'sample_twitter_data.csv'\n",
      "\n",
      "First few rows of the dataset:\n",
      "                        date username  \\\n",
      "0 2024-09-19 16:03:35.684527   user_7   \n",
      "1 2024-09-26 16:03:35.684527  user_18   \n",
      "2 2024-09-19 16:03:35.684527  user_19   \n",
      "3 2024-10-04 16:03:35.684527   user_2   \n",
      "4 2024-10-06 16:03:35.684527  user_11   \n",
      "\n",
      "                                               tweet sentiment  likes  \\\n",
      "0  I awesome this education project. It's excelle...  positive    925   \n",
      "1  I fantastic this education project. It's wonde...  positive    326   \n",
      "2  I fantastic this education project. It's fanta...  positive    144   \n",
      "3  I outstanding this education project. It's exc...  positive    759   \n",
      "4  I disappointing this education project. It's h...  negative    642   \n",
      "\n",
      "   retweets  \n",
      "0        17  \n",
      "1        80  \n",
      "2        92  \n",
      "3        26  \n",
      "4         0  \n",
      "\n",
      "Basic dataset statistics:\n",
      "Total tweets: 100\n",
      "Sentiment distribution:\n",
      "sentiment\n",
      "positive    37\n",
      "neutral     36\n",
      "negative    27\n",
      "Name: count, dtype: int64\n"
     ]
    }
   ],
   "source": [
    "import pandas as pd\n",
    "import numpy as np\n",
    "from datetime import datetime, timedelta\n",
    "\n",
    "def create_sample_dataset(size=100):\n",
    "    \"\"\"\n",
    "    Create a sample Twitter dataset with dummy tweets\n",
    "    \n",
    "    Parameters:\n",
    "    size (int): Number of tweets to generate\n",
    "    \n",
    "    Returns:\n",
    "    pandas.DataFrame: DataFrame containing sample tweets\n",
    "    \"\"\"\n",
    "    # Sample words for generating dummy tweets\n",
    "    positive_words = ['great', 'awesome', 'love', 'excellent', 'happy', 'wonderful', \n",
    "                     'amazing', 'fantastic', 'brilliant', 'outstanding']\n",
    "    negative_words = ['bad', 'terrible', 'hate', 'awful', 'disappointing', 'poor',\n",
    "                     'horrible', 'useless', 'waste', 'frustrated']\n",
    "    neutral_words = ['okay', 'fine', 'normal', 'average', 'standard', 'typical',\n",
    "                    'regular', 'moderate', 'fair', 'decent']\n",
    "    \n",
    "    # Topics for tweets\n",
    "    topics = ['finance', 'healthcare', 'education']\n",
    "    \n",
    "    # Lists to store our data\n",
    "    tweets = []\n",
    "    dates = []\n",
    "    sentiments = []\n",
    "    usernames = []\n",
    "    likes = []\n",
    "    retweets = []\n",
    "    \n",
    "    # Generate random usernames\n",
    "    user_names = [f\"user_{i}\" for i in range(1, 21)]\n",
    "    \n",
    "    print(\"Generating sample dataset...\")\n",
    "    \n",
    "    for i in range(size):\n",
    "        # Progress update\n",
    "        if i % 20 == 0:\n",
    "            print(f\"Generated {i} tweets...\")\n",
    "            \n",
    "        # Randomly choose sentiment\n",
    "        sentiment = np.random.choice(['positive', 'negative', 'neutral'])\n",
    "        \n",
    "        # Select appropriate word list based on sentiment\n",
    "        if sentiment == 'positive':\n",
    "            words = positive_words\n",
    "        elif sentiment == 'negative':\n",
    "            words = negative_words\n",
    "        else:\n",
    "            words = neutral_words\n",
    "            \n",
    "        # Generate dummy tweet\n",
    "        topic = np.random.choice(topics)\n",
    "        tweet = f\"I {np.random.choice(words)} this {topic} project. It's {np.random.choice(words)}! #{topic.replace(' ', '')}\"\n",
    "        \n",
    "        # Generate random date within last 30 days\n",
    "        date = datetime.now() - timedelta(days=np.random.randint(0, 30))\n",
    "        \n",
    "        # Generate random engagement metrics\n",
    "        like_count = np.random.randint(0, 1000)\n",
    "        retweet_count = np.random.randint(0, 100)\n",
    "        \n",
    "        # Append to lists\n",
    "        tweets.append(tweet)\n",
    "        dates.append(date)\n",
    "        sentiments.append(sentiment)\n",
    "        usernames.append(np.random.choice(user_names))\n",
    "        likes.append(like_count)\n",
    "        retweets.append(retweet_count)\n",
    "    \n",
    "    # Create DataFrame\n",
    "    df = pd.DataFrame({\n",
    "        'date': dates,\n",
    "        'username': usernames,\n",
    "        'tweet': tweets,\n",
    "        'sentiment': sentiments,\n",
    "        'likes': likes,\n",
    "        'retweets': retweets\n",
    "    })\n",
    "    \n",
    "    print(f\"\\nDataset generation complete! Created {size} sample tweets.\")\n",
    "    return df\n",
    "\n",
    "# Generate the sample dataset\n",
    "try:\n",
    "    # Create the dataset\n",
    "    sample_df = create_sample_dataset(size=100)\n",
    "    \n",
    "    # Save to CSV\n",
    "    sample_df.to_csv('sample_twitter_data.csv', index=False)\n",
    "    print(\"\\nDataset saved to 'sample_twitter_data.csv'\")\n",
    "    \n",
    "    # Display first few rows\n",
    "    print(\"\\nFirst few rows of the dataset:\")\n",
    "    print(sample_df.head())\n",
    "    \n",
    "    # Display basic statistics\n",
    "    print(\"\\nBasic dataset statistics:\")\n",
    "    print(f\"Total tweets: {len(sample_df)}\")\n",
    "    print(f\"Sentiment distribution:\\n{sample_df['sentiment'].value_counts()}\")\n",
    "    \n",
    "except Exception as e:\n",
    "    print(f\"An error occurred: {str(e)}\")"
   ]
  },
  {
   "cell_type": "code",
   "execution_count": 15,
   "metadata": {},
   "outputs": [
    {
     "name": "stdout",
     "output_type": "stream",
     "text": [
      "Function is properly defined!\n",
      "Generating sample dataset...\n",
      "Generated 0 tweets...\n",
      "\n",
      "Dataset generation complete! Created 5 sample tweets.\n",
      "\n",
      "Test dataset created successfully!\n"
     ]
    }
   ],
   "source": [
    "# Verify the function exists and works\n",
    "if 'create_sample_dataset' in globals():\n",
    "    print(\"Function is properly defined!\")\n",
    "    # Try creating a small test dataset\n",
    "    test_df = create_sample_dataset(size=5)\n",
    "    print(\"\\nTest dataset created successfully!\")\n",
    "else:\n",
    "    print(\"Function is not defined. Please check the code and run it again.\")"
   ]
  },
  {
   "cell_type": "code",
   "execution_count": null,
   "metadata": {},
   "outputs": [],
   "source": []
  }
 ],
 "metadata": {
  "kernelspec": {
   "display_name": "Python 3",
   "language": "python",
   "name": "python3"
  },
  "language_info": {
   "codemirror_mode": {
    "name": "ipython",
    "version": 3
   },
   "file_extension": ".py",
   "mimetype": "text/x-python",
   "name": "python",
   "nbconvert_exporter": "python",
   "pygments_lexer": "ipython3",
   "version": "3.12.3"
  }
 },
 "nbformat": 4,
 "nbformat_minor": 2
}
